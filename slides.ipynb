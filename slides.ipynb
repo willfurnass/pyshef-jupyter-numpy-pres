{
 "cells": [
  {
   "cell_type": "markdown",
   "metadata": {
    "slideshow": {
     "slide_type": "slide"
    }
   },
   "source": [
    "# Interactive data analysis/exploration using the Jupyter notebook and `numpy`/`pandas`\n",
    " \n",
    "## [@WillFurnass](https://twitter.com/willfurnass)\n",
    "\n",
    "### Python Sheffield User's Group\n",
    "\n",
    "### 24th February 2015"
   ]
  },
  {
   "cell_type": "markdown",
   "metadata": {
    "slideshow": {
     "slide_type": "slide"
    }
   },
   "source": [
    "# Overview\n",
    "\n",
    "- Interactive programming?\n",
    "- Jupyter Notebook: (more than?) a better REPL\n",
    "- fast numerical arrays using `numpy`\n",
    "\n",
    "Tabular data with `pandas` - next time?"
   ]
  },
  {
   "cell_type": "markdown",
   "metadata": {
    "slideshow": {
     "slide_type": "slide"
    }
   },
   "source": [
    "## What do we want to be able to do?\n",
    "\n",
    " * Quickly import from CSV / XLSX / DB (/clipboard?)\n",
    " * Clean/pre-process/validate data\n",
    " * Resample\n",
    " * Aggregate\n",
    " * Map/filter\n",
    " * Relational operations\n",
    " * Farm out tasks to R/Julia/Cython/extension modules\n",
    " * Visualise\n",
    " * Create narrative/audit trail (inc. markup, equations, dynamic figs)\n",
    " * Export analysis"
   ]
  },
  {
   "cell_type": "markdown",
   "metadata": {
    "slideshow": {
     "slide_type": "slide"
    }
   },
   "source": [
    "# Part 1: Interactive Python work:\n",
    "\n",
    "Could use\n",
    "- script + debugger\n",
    "   - no audit trace\n",
    "   - limited as to what can define\n",
    "- traditional REPL \n",
    "   - limited in what can display"
   ]
  },
  {
   "cell_type": "markdown",
   "metadata": {
    "slideshow": {
     "slide_type": "subslide"
    }
   },
   "source": [
    "But what if want to see intermediary/final results that cannot easily be appreciated as text? e.g.\n",
    "\n",
    "- images (e.g. heatmaps)\n",
    "- graphs\n",
    "- geospatial data\n",
    "- mathematical expressions\n",
    "- tables\n",
    "\n",
    "```\n",
    "  ^\n",
    "  |       x           \n",
    "y |   x x        YUK  ('~')\n",
    "  | x\n",
    "  |________>\n",
    "       x\n",
    "```"
   ]
  },
  {
   "cell_type": "markdown",
   "metadata": {
    "slideshow": {
     "slide_type": "fragment"
    }
   },
   "source": [
    "Why not use browser as a REPL?  \n",
    "\n",
    "Browsers can present bitmap & vector images, tables, maths (using MathJax), video, audio..."
   ]
  },
  {
   "cell_type": "markdown",
   "metadata": {
    "slideshow": {
     "slide_type": "slide"
    }
   },
   "source": [
    "# Ipython Notebook (now Project Jupyter)\n",
    "\n",
    "Work interactively with Python (or R/Julia/Octave/JS/...) in the browser!\n",
    "\n",
    " - Each Notebook file consists of a list of cells.  \n",
    " - Each cell is \n",
    "    - code\n",
    "    - Markdown/HTML (inc $LaTeX$) or \n",
    "    - raw (for conversion)\n",
    " - Cells can contain multiple lines\n",
    " - Cell only executed when done with editing (*c.f. console-based REPL*)\n",
    " - If last block in cell is expr, display repr of that \n",
    " - Can run cells in any order"
   ]
  },
  {
   "cell_type": "markdown",
   "metadata": {
    "slideshow": {
     "slide_type": "subslide"
    }
   },
   "source": [
    "`Some LaTeX maths, rendered in a **Markdown** cell:`\n",
    "\n",
    "`$y(x) = x^3 + \\frac(x^2,3) - 6 \\cdot x + 4$`"
   ]
  },
  {
   "cell_type": "markdown",
   "metadata": {
    "slideshow": {
     "slide_type": "fragment"
    }
   },
   "source": [
    "Some LaTeX maths, rendered in a **Markdown** cell:\n",
    "\n",
    "$y(x) = x^3 + \\frac{x^2}{3} - 6 \\cdot x + 4$"
   ]
  },
  {
   "cell_type": "code",
   "execution_count": null,
   "metadata": {
    "collapsed": false,
    "slideshow": {
     "slide_type": "subslide"
    }
   },
   "outputs": [],
   "source": [
    "import numpy as np\n",
    "def f(a, b):\n",
    "    return 20 - ((a**2 - (10 * np.cos(2 * np.pi * a))) +\n",
    "                (b**2 - (10 * np.cos(2 * np.pi * b))))\n",
    "f(3, 4)\n",
    "f(5, 6)"
   ]
  },
  {
   "cell_type": "code",
   "execution_count": null,
   "metadata": {
    "collapsed": false,
    "slideshow": {
     "slide_type": "subslide"
    }
   },
   "outputs": [],
   "source": [
    "import numpy as np\n",
    "import matplotlib.pyplot as plt\n",
    "plt.style.use('ggplot')\n",
    "%matplotlib inline\n",
    "\n",
    "x = np.linspace(-1, 1, 1000)\n",
    "y = -x**5 - 4 * x**3\n",
    "\n",
    "fig = plt.figure()\n",
    "ax = fig.add_subplot(1, 1, 1)\n",
    "ax.plot(x, y)"
   ]
  },
  {
   "cell_type": "markdown",
   "metadata": {
    "slideshow": {
     "slide_type": "slide"
    }
   },
   "source": [
    "# Jupyter Notebok repr methods\n",
    "\n",
    "Special `_repr_*_` methods:"
   ]
  },
  {
   "cell_type": "code",
   "execution_count": null,
   "metadata": {
    "collapsed": false,
    "slideshow": {
     "slide_type": "fragment"
    }
   },
   "outputs": [],
   "source": [
    "class Circle(object):\n",
    "    def __init__(self, radius, color_str):\n",
    "        if radius > 50:\n",
    "            raise ValueError('Must have 0 < radius <= 50')\n",
    "        else:\n",
    "            self.radius = radius\n",
    "        self.color = color_str\n",
    "        \n",
    "    def _repr_html_(self):\n",
    "        return \"\"\"<svg height=\"100\" width=\"100\">\n",
    "                     <circle cx=\"50\" cy=\"50\" r=\"{}\" fill=\"{}\" />\n",
    "                     Sorry, your browser does not support inline SVG.  \n",
    "                  </svg>\"\"\".format(self.radius, self.color)\n",
    "\n",
    "Circle(31.2, 'red')"
   ]
  },
  {
   "cell_type": "code",
   "execution_count": null,
   "metadata": {
    "collapsed": false,
    "slideshow": {
     "slide_type": "subslide"
    }
   },
   "outputs": [],
   "source": [
    "from IPython.display import display \n",
    "display(Circle(15, 'blue'))\n",
    "display(Circle(31.2, 'green'))"
   ]
  },
  {
   "cell_type": "markdown",
   "metadata": {
    "slideshow": {
     "slide_type": "fragment"
    }
   },
   "source": [
    "\n",
    "Many projects now including `_repr_html_` and `_repr_latex_` methods for Ipython notebook:\n",
    "\n",
    " * `sympy` for analytical maths\n",
    " * `pandas` for manipulating tabular data\n",
    " * `matplotlib`/`bokeh`/`seaborn` for plotting"
   ]
  },
  {
   "cell_type": "markdown",
   "metadata": {
    "slideshow": {
     "slide_type": "slide"
    }
   },
   "source": [
    "# Grand vision\n",
    "\n",
    " * Demonstrate concepts/analysis using reproducible narratives\n",
    " * Validate the findings of others\n",
    " * Tutorials/lectures\n",
    " * Quick SA\n",
    " * Text, maths, code and figures all in one place. \n",
    " * Share \n",
    "    * as `ipynb` file\n",
    "    * via server (e.g. Nature)\n",
    "    * via `nbviewer.ipython.org` as static HTML\n",
    "    * document (as file) using `nbconvert` utility (generate HTML, PDF or LaTeX)\n",
    "    * as presentation (`reveal.js`)"
   ]
  },
  {
   "cell_type": "markdown",
   "metadata": {
    "slideshow": {
     "slide_type": "slide"
    }
   },
   "source": [
    "# Architecture\n",
    "\n",
    "### Server\n",
    "Kernel + tornado (async web server like Node.js)\n",
    "\n",
    "### Client\n",
    "browser + CodeMirror text editor + MathJax (typically from CDN)\n",
    "\n",
    "### Comms\n",
    "ZeroMQ over websockets "
   ]
  },
  {
   "cell_type": "markdown",
   "metadata": {
    "slideshow": {
     "slide_type": "fragment"
    }
   },
   "source": [
    "## Other cool stuff\n",
    "\n",
    "- `ipyparallel`\n",
    "- cell magics: call out to other languages, create Python extension modules on the fly etc.\n",
    "- shell access\n",
    "- modal vim-like editing/movement!"
   ]
  },
  {
   "cell_type": "markdown",
   "metadata": {
    "slideshow": {
     "slide_type": "slide"
    }
   },
   "source": [
    "# Part 2: Tools for interactive data manipulation\n",
    "\n",
    "Much data in engineering/science/economics is array / tabular / matrix\n",
    "\n",
    "- frequent, regular pressure measurements (array of float pressure (and timestamps?))\n",
    "- river flow at different distances along a reach (array of float flows and float distances)\n",
    "- discrete, irregular samples of concentration along an open channel\n",
    "- data on all pipes managed by a water company (homogeneous)\n",
    "\n",
    "How best to access/manipulate such data interactively?"
   ]
  },
  {
   "cell_type": "markdown",
   "metadata": {
    "slideshow": {
     "slide_type": "fragment"
    }
   },
   "source": [
    " * Lists/tuples are slow\n",
    "     * Data may be homogeneous but Python doesn't know that\n",
    "     * Can't use pointer arithmetic: instead iterate over array of objects of arbitrary size \n",
    " * Also, cannot force lists of lists to be rectangular without encapsulation"
   ]
  },
  {
   "cell_type": "markdown",
   "metadata": {
    "slideshow": {
     "slide_type": "slide"
    }
   },
   "source": [
    "### Numpy arrays\n",
    "\n",
    " * Homogeneously typed arrays – fast creation and element access!\n",
    " * C-like arrays implemented using (compiled) Python extension modules\n",
    " * but with\n",
    "     - metadata inc datatype and  size/shape\n",
    "     - garbage collection!"
   ]
  },
  {
   "cell_type": "code",
   "execution_count": null,
   "metadata": {
    "collapsed": false,
    "slideshow": {
     "slide_type": "slide"
    }
   },
   "outputs": [],
   "source": [
    "import numpy as np\n",
    "a = np.array([[0, 1], [1, 0]])\n",
    "a"
   ]
  },
  {
   "cell_type": "code",
   "execution_count": null,
   "metadata": {
    "collapsed": false,
    "slideshow": {
     "slide_type": "fragment"
    }
   },
   "outputs": [],
   "source": [
    "b = np.linspace(0.3, 8.9, 10)\n",
    "b"
   ]
  },
  {
   "cell_type": "code",
   "execution_count": null,
   "metadata": {
    "collapsed": false,
    "slideshow": {
     "slide_type": "fragment"
    }
   },
   "outputs": [],
   "source": [
    "a.dtype, b.dtype"
   ]
  },
  {
   "cell_type": "code",
   "execution_count": null,
   "metadata": {
    "collapsed": false,
    "slideshow": {
     "slide_type": "fragment"
    }
   },
   "outputs": [],
   "source": [
    "a.shape, b.shape"
   ]
  },
  {
   "cell_type": "markdown",
   "metadata": {
    "slideshow": {
     "slide_type": "slide"
    }
   },
   "source": [
    "### Array-level operations (in C) are much faster!"
   ]
  },
  {
   "cell_type": "code",
   "execution_count": null,
   "metadata": {
    "collapsed": false,
    "slideshow": {
     "slide_type": "fragment"
    }
   },
   "outputs": [],
   "source": [
    "x_max = 10000\n",
    "x1 = list(range(x_max))\n",
    "x2 = np.arange(x_max)\n",
    "%timeit [x + 1 for x in x1]\n",
    "%timeit x2 + 1"
   ]
  },
  {
   "cell_type": "markdown",
   "metadata": {
    "slideshow": {
     "slide_type": "slide"
    }
   },
   "source": [
    "## Array-level operations\n",
    "\n",
    "Note that many standard operators (arithmetic, comparison, element access, etc) allow for array/slice (view)-level operations.\n",
    "\n",
    "Fast as implemented in C."
   ]
  },
  {
   "cell_type": "code",
   "execution_count": null,
   "metadata": {
    "collapsed": false,
    "slideshow": {
     "slide_type": "fragment"
    }
   },
   "outputs": [],
   "source": [
    "distances = np.linspace(0, 1774, 50)\n",
    "distances.shape, distances.max()"
   ]
  },
  {
   "cell_type": "code",
   "execution_count": null,
   "metadata": {
    "collapsed": false,
    "slideshow": {
     "slide_type": "fragment"
    }
   },
   "outputs": [],
   "source": [
    "concentrations = np.random.normal(5, 3, len(distances))\n",
    "concentrations.shape, concentrations.min()"
   ]
  },
  {
   "cell_type": "markdown",
   "metadata": {
    "slideshow": {
     "slide_type": "fragment"
    }
   },
   "source": [
    "Ensure all concentrations are strictly positive:"
   ]
  },
  {
   "cell_type": "code",
   "execution_count": null,
   "metadata": {
    "collapsed": false,
    "slideshow": {
     "slide_type": "fragment"
    }
   },
   "outputs": [],
   "source": [
    "concentrations[concentrations < 0] = 0"
   ]
  },
  {
   "cell_type": "markdown",
   "metadata": {
    "slideshow": {
     "slide_type": "fragment"
    }
   },
   "source": [
    "Find the median concentration over all but the first and last 100 units of distance:"
   ]
  },
  {
   "cell_type": "code",
   "execution_count": null,
   "metadata": {
    "collapsed": false,
    "slideshow": {
     "slide_type": "fragment"
    }
   },
   "outputs": [],
   "source": [
    "np.median(concentrations[(distances > 100 ) & (distances <= distances[-1] - 100)])"
   ]
  },
  {
   "cell_type": "markdown",
   "metadata": {
    "slideshow": {
     "slide_type": "slide"
    }
   },
   "source": [
    "# Copies vs views\n",
    "\n",
    "A word of warning:\n",
    "\n",
    " - Some slicing/indexing operations return views\n",
    "    - modifying a view also changes the `base` array \n",
    " - More complex slicing/indexing returns copies\n",
    " - See `numpy` docs for rules "
   ]
  },
  {
   "cell_type": "markdown",
   "metadata": {
    "slideshow": {
     "slide_type": "slide"
    }
   },
   "source": [
    "# Also in `numpy`"
   ]
  },
  {
   "cell_type": "markdown",
   "metadata": {},
   "source": [
    " * broadcasting: \n",
    "    * operate on arrays/scalars of different shapes if rules regarding number of rows/columns/elements satisfied \n",
    " * ufuncs\n",
    "    * functions where one or more arguments can be arrays\n",
    "    * broadcasting used to determine how to combine arguments\n",
    "    * vectorized wrapper for function that takes only scalar as arguments\n",
    " * read/write from/to csv/binary format\n",
    " * masked arrays (dealing with missing data)\n",
    " * interpolation\n",
    " * statistical sampling\n",
    " * linear algebra\n",
    " * interact from cython/numba"
   ]
  },
  {
   "cell_type": "markdown",
   "metadata": {
    "slideshow": {
     "slide_type": "slide"
    }
   },
   "source": [
    "# Pandas - next time?\n",
    "\n",
    "Thanks for listening"
   ]
  }
 ],
 "metadata": {
  "celltoolbar": "Slideshow",
  "kernelspec": {
   "display_name": "Python 3",
   "language": "python",
   "name": "python3"
  },
  "language_info": {
   "codemirror_mode": {
    "name": "ipython",
    "version": 3
   },
   "file_extension": ".py",
   "mimetype": "text/x-python",
   "name": "python",
   "nbconvert_exporter": "python",
   "pygments_lexer": "ipython3",
   "version": "3.5.1"
  }
 },
 "nbformat": 4,
 "nbformat_minor": 0
}
